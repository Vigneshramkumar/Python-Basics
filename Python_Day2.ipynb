{
 "cells": [
  {
   "cell_type": "markdown",
   "metadata": {},
   "source": [
    "# Sequential Statements"
   ]
  },
  {
   "cell_type": "code",
   "execution_count": 11,
   "metadata": {
    "collapsed": false
   },
   "outputs": [
    {
     "name": "stdout",
     "output_type": "stream",
     "text": [
      "Both are equal\n",
      "Both are not equal\n",
      "20 is greater\n"
     ]
    }
   ],
   "source": [
    "# If Statements\n",
    "# It is used in python for sequential flow of program by checking the conditions.\n",
    "\n",
    "# Indentation\n",
    "# Before going into sequence and loop statements we must know about the indentation in python.\n",
    "# Unlike other languages, it doesn't has the { and } for pointing the start and end of a section. It uses intendation instead \n",
    "# of {}. Also we will give ':' for indicating the start of section\n",
    "\n",
    "if(1 == 1):                 # ':' indicates the start of section\n",
    "    print(\"Both are equal\")\n",
    "\n",
    "# It has else block for us to provide the statements for execution, if the condition fails\n",
    "if(1 == 2):\n",
    "    print(\"Both are equal\")\n",
    "else:\n",
    "    print(\"Both are not equal\")\n",
    "    \n",
    "# Else-If (elif) statements are present in python for checking more than one condition.\n",
    "if(10>20):\n",
    "    print(\"10 is higher\")\n",
    "elif(20>3):\n",
    "    print(\"20 is greater\")\n",
    "else:\n",
    "    print(\"Not higher\")"
   ]
  },
  {
   "cell_type": "markdown",
   "metadata": {},
   "source": [
    "# User Inputs"
   ]
  },
  {
   "cell_type": "code",
   "execution_count": 12,
   "metadata": {
    "collapsed": false
   },
   "outputs": [
    {
     "name": "stdout",
     "output_type": "stream",
     "text": [
      "Enter the Name : Vignesh\n",
      "Vignesh\n",
      "Enter the Number : 5\n",
      "5\n"
     ]
    }
   ],
   "source": [
    "# input keyword is used for getting the inputs from user.\n",
    "# The default type is string. If we want to get integer, then we need to explicitly mention the same.\n",
    "\n",
    "a = input(\"Enter the Name : \")\n",
    "print(a)\n",
    "b = int(input(\"Enter the Number : \"))\n",
    "print(b)"
   ]
  },
  {
   "cell_type": "markdown",
   "metadata": {},
   "source": [
    "# Loop Statements"
   ]
  },
  {
   "cell_type": "markdown",
   "metadata": {},
   "source": [
    "### FOR Loop"
   ]
  },
  {
   "cell_type": "code",
   "execution_count": 23,
   "metadata": {
    "collapsed": false
   },
   "outputs": [
    {
     "name": "stdout",
     "output_type": "stream",
     "text": [
      "1\n",
      "2\n",
      "3\n",
      "4\n",
      "5\n",
      "6\n",
      "7\n",
      "8\n",
      "9\n",
      "The value is  1\n",
      "The value is  3\n",
      "The value is  5\n",
      "1\n",
      "2\n",
      "For loop is over\n"
     ]
    }
   ],
   "source": [
    "# For loop \n",
    "# It is widely used in all languages for traversing through the values linearly.\n",
    "for i in range(1,10,1):   # 1 represents the starting value, 10 represents the ending value, last 1 represent incrementation\n",
    "    print(i)\n",
    "# Incrementation is optional. The default value is 1.\n",
    "# In python, the for loop always stops with n-1 times. In the above case the end value is 10 and it stops with 9\n",
    "\n",
    "a = \"Vignesh\"\n",
    "for i in range(1,len(a),2):\n",
    "    print(\"The value is \",i)\n",
    "\n",
    "# In python For loop contains else block, which executes after the loop fails.\n",
    "for i in range(1,3):\n",
    "    print(i)\n",
    "else:\n",
    "    print(\"For loop is over\")\n",
    "\n",
    "# We will come to FOR loop during list, tuples programming"
   ]
  },
  {
   "cell_type": "markdown",
   "metadata": {},
   "source": [
    "### WHILE Loop"
   ]
  },
  {
   "cell_type": "code",
   "execution_count": 29,
   "metadata": {
    "collapsed": false
   },
   "outputs": [
    {
     "name": "stdout",
     "output_type": "stream",
     "text": [
      "While Loop is over\n",
      "The sum is :  15\n"
     ]
    }
   ],
   "source": [
    "# While Loop\n",
    "\n",
    "#While test_Expression:\n",
    "#    Body of while\n",
    "#While loop also contains else block as for loop\n",
    "n = 5\n",
    "sum = 0\n",
    "i = 1\n",
    "while i <= n:          #While Loop condition\n",
    "    sum = sum + i      \n",
    "    i = i + 1          #Incrementation\n",
    "else:                  #Else block\n",
    "    print(\"While Loop is over\")\n",
    "print(\"The sum is : \",sum)"
   ]
  },
  {
   "cell_type": "markdown",
   "metadata": {},
   "source": [
    "### Break"
   ]
  },
  {
   "cell_type": "code",
   "execution_count": 31,
   "metadata": {
    "collapsed": false
   },
   "outputs": [
    {
     "name": "stdout",
     "output_type": "stream",
     "text": [
      "K\n",
      "u\n",
      "m\n",
      "End\n"
     ]
    }
   ],
   "source": [
    "# Break statements are used to exit the loop once it satisfies a condition\n",
    "for i in 'Kumar':\n",
    "    if i == 'a':\n",
    "        break\n",
    "    print(i)\n",
    "print(\"End\")"
   ]
  },
  {
   "cell_type": "markdown",
   "metadata": {},
   "source": [
    "### Continue"
   ]
  },
  {
   "cell_type": "code",
   "execution_count": 32,
   "metadata": {
    "collapsed": false
   },
   "outputs": [
    {
     "name": "stdout",
     "output_type": "stream",
     "text": [
      "K\n",
      "u\n",
      "a\n",
      "r\n",
      "End\n"
     ]
    }
   ],
   "source": [
    "#Continue statements are used to exclude the next line of codes in a loop and get back to the starting of the loop\n",
    "for val in 'Kumar':\n",
    "    if val == 'm':\n",
    "        continue\n",
    "    print(val)\n",
    "print(\"End\")"
   ]
  },
  {
   "cell_type": "markdown",
   "metadata": {},
   "source": [
    "### Factorial of a Number by getting User Input"
   ]
  },
  {
   "cell_type": "code",
   "execution_count": 13,
   "metadata": {
    "collapsed": false
   },
   "outputs": [
    {
     "name": "stdout",
     "output_type": "stream",
     "text": [
      "Enter the number: 6\n",
      "The factorial of  6  is : 720\n"
     ]
    }
   ],
   "source": [
    "factorial = 1                        #Initial value\n",
    "n= int(input(\"Enter the number: \"))  #Getting user input\n",
    "for i in range(1,n+1):               #Start of for loop for finding factorial\n",
    "    factorial = factorial*i\n",
    "print(\"The factorial of \",n,\" is :\",factorial)  #Printing result"
   ]
  },
  {
   "cell_type": "code",
   "execution_count": 38,
   "metadata": {
    "collapsed": true
   },
   "outputs": [],
   "source": [
    "# Practise the following programs\n",
    "# Finding a prime number\n",
    "# Fibonacci series "
   ]
  },
  {
   "cell_type": "markdown",
   "metadata": {},
   "source": [
    "### Sum of digits in a number"
   ]
  },
  {
   "cell_type": "code",
   "execution_count": 35,
   "metadata": {
    "collapsed": false
   },
   "outputs": [
    {
     "name": "stdout",
     "output_type": "stream",
     "text": [
      "Please enter the number : 12345\n",
      "The sum of digits in the number 12345 is : 15\n"
     ]
    }
   ],
   "source": [
    "number = int(input(\"Please enter the number : \"))  # Get the user input\n",
    "temp = number\n",
    "sum1 = 0                                           # Initializa the result to 0\n",
    "while(number>0):                                   # Condition\n",
    "    digit = number%10                              # Getting the last digit of a number\n",
    "    sum1 = sum1 + digit                            # Adding up to the digit to result\n",
    "    number = number // 10                          # Getting the remaining digits in a number by excluding the last added digit\n",
    "print(\"The sum of digits in the number\",temp,\"is :\",sum1)     # Display the result"
   ]
  },
  {
   "cell_type": "code",
   "execution_count": 37,
   "metadata": {
    "collapsed": true
   },
   "outputs": [],
   "source": [
    "# Practise the following programs\n",
    "# Reverse a number\n",
    "# Finding Palindrome"
   ]
  }
 ],
 "metadata": {
  "kernelspec": {
   "display_name": "Python [default]",
   "language": "python",
   "name": "python3"
  },
  "language_info": {
   "codemirror_mode": {
    "name": "ipython",
    "version": 3
   },
   "file_extension": ".py",
   "mimetype": "text/x-python",
   "name": "python",
   "nbconvert_exporter": "python",
   "pygments_lexer": "ipython3",
   "version": "3.5.2"
  }
 },
 "nbformat": 4,
 "nbformat_minor": 1
}
