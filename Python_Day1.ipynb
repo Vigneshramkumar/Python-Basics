{
 "cells": [
  {
   "cell_type": "markdown",
   "metadata": {},
   "source": [
    "# Python"
   ]
  },
  {
   "cell_type": "code",
   "execution_count": null,
   "metadata": {
    "collapsed": true
   },
   "outputs": [],
   "source": [
    "#Python is an interpretter language, which converts the program straight away into machine understandable format at runtime.\n",
    "#Unlike compilers it wont change the program into byte code before runtime.\n",
    "# Single line comments\n",
    "# In python we use # symbol for including single line comments\n",
    "\n",
    "\"\"\" Multiple line comments\"\"\""
   ]
  },
  {
   "cell_type": "markdown",
   "metadata": {},
   "source": [
    "# Identifiers"
   ]
  },
  {
   "cell_type": "code",
   "execution_count": 7,
   "metadata": {
    "collapsed": false
   },
   "outputs": [
    {
     "name": "stdout",
     "output_type": "stream",
     "text": [
      "2\n",
      "1\n",
      "Hello Python\n",
      "Hello World\n"
     ]
    }
   ],
   "source": [
    "#Identifiers\n",
    "\"\"\"It is the name given to the entities present in program such as Variables, classes and methods.\n",
    "Also as like other languages python also has reserved keywords and we are not supposed to use the \n",
    "keywords for naming the identifiers.\"\"\"\n",
    "\n",
    "# In python we dont want to mention the data type name, it will automatically assign the data type to a variable based on value.\n",
    "# PFB the rules in python for naming the identifiers.\n",
    "# a. It can be in alphabet with range of a to z or A to Z\n",
    "# b. It should not start with digits\n",
    "# c. It should not be reserved keywords\n",
    "# d. Also we cannot use special symbols like !,@,#,$,%,^,&,* etc\n",
    "\n",
    "# Identifiers are case sensitive in Python\n",
    "# \"A\" is different from \"a\" in python\n",
    "\n",
    "A=1\n",
    "a=2\n",
    "\n",
    "# Print statement in python is used to display values in output\n",
    "print(a)\n",
    "print(A)\n",
    "\n",
    "# Unlike other languages, developers don't need to provide ';' or '.' at the end of a statement\n",
    "hello = \"Python\"\n",
    "Hello = \"World\"\n",
    "print(\"Hello\",hello)\n",
    "print(\"Hello\",Hello)"
   ]
  },
  {
   "cell_type": "markdown",
   "metadata": {},
   "source": [
    "# Basic Operations"
   ]
  },
  {
   "cell_type": "code",
   "execution_count": 18,
   "metadata": {
    "collapsed": false
   },
   "outputs": [
    {
     "name": "stdout",
     "output_type": "stream",
     "text": [
      "10\n",
      "2\n",
      "24\n",
      "1.5\n",
      "1\n",
      "2\n",
      "True\n",
      "False\n",
      "True\n",
      "True\n"
     ]
    }
   ],
   "source": [
    "# Basic arithmetic Operations\n",
    "print(6+4)  #Addition\n",
    "print(6-4)  #Subtraction\n",
    "print(6*4)  #Multiplication\n",
    "print(6/4)  #Division (Gives float results)\n",
    "print(6//4) #Division (Gives whole number as result)\n",
    "print(6%4)  #Modulo - Remainder\n",
    "print(6>4)  #Conditional operators\n",
    "# Python also contains conditional operators like '<','>=','<=','==','!=' etc..\n",
    "# Also we are having logical operators like 'and','or','not'\n",
    "# AND Operator\n",
    "print(1==1 and 2==3)\n",
    "# OR Operator\n",
    "print(1==1 or 2==3)\n",
    "# NOT Operator\n",
    "print(1!=2)"
   ]
  },
  {
   "cell_type": "markdown",
   "metadata": {},
   "source": [
    "# Type Casting"
   ]
  },
  {
   "cell_type": "code",
   "execution_count": 14,
   "metadata": {
    "collapsed": false
   },
   "outputs": [
    {
     "name": "stdout",
     "output_type": "stream",
     "text": [
      "<class 'int'>\n",
      "<class 'str'>\n"
     ]
    }
   ],
   "source": [
    "#In python we can do explicit type casting by mentioning the keyword.\n",
    "a=10\n",
    "print(type(a))    #We can use type(variable name) to get the data type of variable in Python\n",
    "a=str(a)          # This statement changes the data type from int to string\n",
    "print(type(a))"
   ]
  },
  {
   "cell_type": "markdown",
   "metadata": {},
   "source": [
    "# Statements"
   ]
  },
  {
   "cell_type": "code",
   "execution_count": 26,
   "metadata": {
    "collapsed": false
   },
   "outputs": [
    {
     "name": "stdout",
     "output_type": "stream",
     "text": [
      "29\n",
      "29\n",
      "1 2 3\n",
      "1 1 1\n"
     ]
    }
   ],
   "source": [
    "# Assignment Statements\n",
    "\n",
    "a = 2\n",
    "\n",
    "# Multi line statements\n",
    "\n",
    "b = 1 + 2 + \\\n",
    "    3 + 4 + 5 + \\\n",
    "    6 + 8\n",
    "print(b)\n",
    "\n",
    "c = (1 + 2 + \n",
    "    3 + 4 + 5 + \n",
    "    6 + 8)\n",
    "print(c)\n",
    "\n",
    "#Multiple Assigngment statement\n",
    "a = 1; b = 2; c = 3\n",
    "print(a,b,c)\n",
    "\n",
    "a=b=c=1\n",
    "print(a,b,c)"
   ]
  }
 ],
 "metadata": {
  "anaconda-cloud": {},
  "kernelspec": {
   "display_name": "Python [default]",
   "language": "python",
   "name": "python3"
  },
  "language_info": {
   "codemirror_mode": {
    "name": "ipython",
    "version": 3
   },
   "file_extension": ".py",
   "mimetype": "text/x-python",
   "name": "python",
   "nbconvert_exporter": "python",
   "pygments_lexer": "ipython3",
   "version": "3.5.2"
  }
 },
 "nbformat": 4,
 "nbformat_minor": 1
}
